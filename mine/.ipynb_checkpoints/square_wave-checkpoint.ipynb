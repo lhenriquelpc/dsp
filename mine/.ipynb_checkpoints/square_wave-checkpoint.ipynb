{
 "cells": [
  {
   "cell_type": "code",
   "execution_count": 2,
   "metadata": {},
   "outputs": [],
   "source": [
    "from scipy import signal"
   ]
  },
  {
   "cell_type": "code",
   "execution_count": 6,
   "metadata": {},
   "outputs": [],
   "source": [
    "import matplotlib.pyplot as plot"
   ]
  },
  {
   "cell_type": "code",
   "execution_count": 7,
   "metadata": {},
   "outputs": [],
   "source": [
    "import numpy as np"
   ]
  },
  {
   "cell_type": "code",
   "execution_count": 13,
   "metadata": {},
   "outputs": [],
   "source": [
    "t = np.linspace(0, 1, 1000, endpoint = True) # Sampling rate 1000 hz / second"
   ]
  },
  {
   "cell_type": "code",
   "execution_count": 17,
   "metadata": {},
   "outputs": [
    {
     "name": "stdout",
     "output_type": "stream",
     "text": [
      "[<matplotlib.lines.Line2D object at 0x1c1fd6ff28>]\n"
     ]
    },
    {
     "data": {
      "image/png": "[encoded data removed]",
      "text/plain": [
       "<Figure size 432x288 with 1 Axes>"
      ]
     },
     "metadata": {
      "needs_background": "light"
     },
     "output_type": "display_data"
    }
   ],
   "source": [
    "print(plot.plot(t, signal.square(2*np.pi*5*t)))\n",
    "plot.show()"
   ]
  },
  {
   "cell_type": "code",
   "execution_count": null,
   "metadata": {},
   "outputs": [],
   "source": [
    "# Sampling rate 1000 hz / second\n",
    "\n",
    "t = np.linspace(0, 1, 1000, endpoint=True)\n",
    "\n",
    " \n",
    "\n",
    "# Plot the square wave signal\n",
    "\n",
    "plot.plot(t, signal.square(2 * np.pi * 5 * t))\n",
    "\n",
    " \n",
    "\n",
    "# Give a title for the square wave plot\n",
    "\n",
    "plot.title('Sqaure wave - 5 Hz sampled at 1000 Hz /second')\n",
    "\n",
    " \n",
    "\n",
    "# Give x axis label for the square wave plot\n",
    "\n",
    "plot.xlabel('Time')\n",
    "\n",
    " \n",
    "\n",
    "# Give y axis label for the square wave plot\n",
    "\n",
    "plot.ylabel('Amplitude')\n",
    "\n",
    " \n",
    "\n",
    "plot.grid(True, which='both')\n",
    "\n",
    " \n",
    "\n",
    "# Provide x axis and line color\n",
    "\n",
    "plot.axhline(y=0, color='k')\n",
    "\n",
    " \n",
    "\n",
    "# Set the max and min values for y axis\n",
    "\n",
    "plot.ylim(-2, 2)\n",
    "\n",
    " \n",
    "\n",
    "# Display the square wave drawn\n",
    "\n",
    "plot.show()"
   ]
  }
 ],
 "metadata": {
  "kernelspec": {
   "display_name": "Python 3",
   "language": "python",
   "name": "python3"
  },
  "language_info": {
   "codemirror_mode": {
    "name": "ipython",
    "version": 3
   },
   "file_extension": ".py",
   "mimetype": "text/x-python",
   "name": "python",
   "nbconvert_exporter": "python",
   "pygments_lexer": "ipython3",
   "version": "3.7.1"
  }
 },
 "nbformat": 4,
 "nbformat_minor": 2
}
