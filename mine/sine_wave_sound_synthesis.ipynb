{
 "cells": [
  {
   "cell_type": "code",
   "execution_count": 9,
   "metadata": {},
   "outputs": [],
   "source": [
    "##### METHOD Nº 1\n",
    "## Sources:\n",
    "# https://www.youtube.com/watch?v=dNJ171EsoNQ&list=PLJQ6TLYFRC7VT62fAuToB7QfcfGe98Rih&index=4\n",
    "# https://gist.github.com/akey7/94ff0b4a4caf70b98f0135c1cd79aff3\n",
    "import numpy as np\n",
    "# download the following module through the command: python3 -m pip install sounddevice \n",
    "import sounddevice as sd\n",
    "import time"
   ]
  },
  {
   "cell_type": "code",
   "execution_count": 11,
   "metadata": {},
   "outputs": [],
   "source": [
    "# Samples per Second\n",
    "# Sampling rate of a CD (Compact Disk)\n",
    "sps = 44100\n",
    "\n",
    "# Frequency / pitch (Hz)\n",
    "freq_hz = 440 #Hz\n",
    "\n",
    "# Duration of wave (s_seconds)\n",
    "duration_s = 5\n",
    "\n",
    "# Amplitude of the sound \n",
    "A = 0.3\n",
    "\n",
    "# time axis (number of total samples)\n",
    "each_sample_number = np.arange(duration_s * sps)\n",
    "\n",
    "# Sine wave generation\n",
    "wave = A*np.sin((2 * np.pi * each_sample_number * freq_hz)/sps)\n",
    "\n",
    "# Sound of the waveform\n",
    "sd.play(wave, sps)\n",
    "time.sleep(duration_s)\n",
    "sd.stop()"
   ]
  },
  {
   "cell_type": "code",
   "execution_count": 15,
   "metadata": {},
   "outputs": [],
   "source": [
    "##### Sound file generation\n",
    "## Source: https://www.youtube.com/watch?v=lbV2SoeAggU&index=3&list=PLJQ6TLYFRC7VT62fAuToB7QfcfGe98Rih\n",
    "from scipy.io.wavfile import write\n",
    "# Transform each sample (float numbers) into 16-bit integers\n",
    "wave_integers = np.int16(wave*32767)\n",
    "write('sine_wave_sound.wav', sps, wave_integers)"
   ]
  },
  {
   "cell_type": "code",
   "execution_count": 19,
   "metadata": {},
   "outputs": [
    {
     "data": {
      "text/plain": [
       "[<matplotlib.lines.Line2D at 0xb1e5d4518>]"
      ]
     },
     "execution_count": 19,
     "metadata": {},
     "output_type": "execute_result"
    },
    {
     "data": {
      "image/png": "[encoded data removed]",
      "text/plain": [
       "<Figure size 432x288 with 1 Axes>"
      ]
     },
     "metadata": {
      "needs_background": "light"
     },
     "output_type": "display_data"
    }
   ],
   "source": [
    "# Printing Wave\n",
    "import matplotlib.pyplot as plotter\n",
    "\n",
    "plotter.plot(each_sample_number, wave)"
   ]
  },
  {
   "cell_type": "code",
   "execution_count": 20,
   "metadata": {},
   "outputs": [
    {
     "name": "stdout",
     "output_type": "stream",
     "text": [
      "[ 0.          0.0187945   0.03751516 ... -0.05608843 -0.03751516\n",
      " -0.0187945 ]\n"
     ]
    }
   ],
   "source": [
    "print(wave)"
   ]
  },
  {
   "cell_type": "code",
   "execution_count": 14,
   "metadata": {},
   "outputs": [],
   "source": [
    "## Other Sources:\n",
    "# https://thehackerdiary.wordpress.com/2017/06/09/it-is-ridiculously-easy-to-generate-any-audio-signal-using-python/\n",
    "# https://zach.se/generate-audio-with-python/"
   ]
  }
 ],
 "metadata": {
  "kernelspec": {
   "display_name": "Python 3",
   "language": "python",
   "name": "python3"
  },
  "language_info": {
   "codemirror_mode": {
    "name": "ipython",
    "version": 3
   },
   "file_extension": ".py",
   "mimetype": "text/x-python",
   "name": "python",
   "nbconvert_exporter": "python",
   "pygments_lexer": "ipython3",
   "version": "3.7.1"
  }
 },
 "nbformat": 4,
 "nbformat_minor": 2
}
